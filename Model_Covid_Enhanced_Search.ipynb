{
 "cells": [
  {
   "cell_type": "markdown",
   "metadata": {
    "colab_type": "text",
    "id": "hSfUzYrNRMSZ"
   },
   "source": [
    "# COVID ENHANCED SEARCH ENGINE USING NLP AND RNN"
   ]
  },
  {
   "cell_type": "markdown",
   "metadata": {},
   "source": [
    "### Loading all required libraries "
   ]
  },
  {
   "cell_type": "code",
   "execution_count": 6,
   "metadata": {
    "colab": {
     "base_uri": "https://localhost:8080/",
     "height": 195
    },
    "colab_type": "code",
    "id": "yGLDUADVr5Jj",
    "outputId": "7c83e2f1-946d-4dd7-cea1-a4503eca801e"
   },
   "outputs": [
    {
     "name": "stderr",
     "output_type": "stream",
     "text": [
      "/usr/local/lib/python3.6/dist-packages/statsmodels/tools/_testing.py:19: FutureWarning: pandas.util.testing is deprecated. Use the functions in the public API at pandas.testing instead.\n",
      "  import pandas.util.testing as tm\n"
     ]
    },
    {
     "data": {
      "text/html": [
       "        <script type=\"text/javascript\">\n",
       "        window.PlotlyConfig = {MathJaxConfig: 'local'};\n",
       "        if (window.MathJax) {MathJax.Hub.Config({SVG: {font: \"STIX-Web\"}});}\n",
       "        if (typeof require !== 'undefined') {\n",
       "        require.undef(\"plotly\");\n",
       "        requirejs.config({\n",
       "            paths: {\n",
       "                'plotly': ['https://cdn.plot.ly/plotly-latest.min']\n",
       "            }\n",
       "        });\n",
       "        require(['plotly'], function(Plotly) {\n",
       "            window._Plotly = Plotly;\n",
       "        });\n",
       "        }\n",
       "        </script>\n",
       "        "
      ]
     },
     "metadata": {
      "tags": []
     },
     "output_type": "display_data"
    },
    {
     "name": "stdout",
     "output_type": "stream",
     "text": [
      "[nltk_data] Downloading package stopwords to /root/nltk_data...\n",
      "[nltk_data]   Unzipping corpora/stopwords.zip.\n",
      "[nltk_data] Downloading package punkt to /root/nltk_data...\n",
      "[nltk_data]   Unzipping tokenizers/punkt.zip.\n",
      "[nltk_data] Downloading package wordnet to /root/nltk_data...\n",
      "[nltk_data]   Unzipping corpora/wordnet.zip.\n"
     ]
    },
    {
     "name": "stderr",
     "output_type": "stream",
     "text": [
      "Using TensorFlow backend.\n"
     ]
    }
   ],
   "source": [
    "# importing all required libraries \n",
    "import pandas as pd\n",
    "import numpy as np\n",
    "import tensorflow as tf\n",
    "\n",
    "import matplotlib.pyplot as plt\n",
    "import missingno\n",
    "import seaborn as sns\n",
    "\n",
    "from collections import Counter\n",
    "\n",
    "import io\n",
    "import plotly.offline as py#visualization\n",
    "py.init_notebook_mode(connected=True)#visualization\n",
    "import plotly.graph_objs as go#visualization\n",
    "import plotly.tools as tls#visualization\n",
    "import plotly.figure_factory as ff#visualization\n",
    "\n",
    "import re\n",
    "import string\n",
    "import nltk\n",
    "import spacy\n",
    "nltk.download('stopwords')\n",
    "from nltk.corpus import stopwords\n",
    "from nltk.stem.snowball import SnowballStemmer\n",
    "from nltk.stem.porter import PorterStemmer\n",
    "#nltk.download('vader_lexicon')\n",
    "from bs4 import BeautifulSoup\n",
    "from wordcloud import WordCloud\n",
    "from wordcloud import STOPWORDS\n",
    "\n",
    "from sklearn.preprocessing import LabelEncoder \n",
    "from sklearn.model_selection import train_test_split\n",
    "import itertools\n",
    "\n",
    "# NLP\n",
    "from nltk.tokenize import word_tokenize\n",
    "from nltk.stem.wordnet import WordNetLemmatizer\n",
    "nltk.download('punkt')\n",
    "nltk.download('wordnet')\n",
    "\n",
    "# word2vec model\n",
    "import gensim\n",
    "\n",
    "# keras model libraries\n",
    "import keras\n",
    "from keras.preprocessing.text import Tokenizer\n",
    "from keras.preprocessing.sequence import pad_sequences\n",
    "from keras.preprocessing import sequence\n",
    "from keras.models import Sequential\n",
    "from keras.layers import Dense, Embedding, LSTM, Dropout, SpatialDropout1D, Activation, Input\n",
    "from keras.utils.np_utils import to_categorical\n",
    "from keras.callbacks import ReduceLROnPlateau, EarlyStopping\n",
    "from keras.models import load_model\n",
    "from keras.callbacks import EarlyStopping\n",
    "from keras.layers import Dropout\n",
    "from keras.models import Model\n",
    "from keras.optimizers import RMSprop\n",
    "from keras.callbacks import EarlyStopping\n",
    "\n",
    "import pickle"
   ]
  },
  {
   "cell_type": "code",
   "execution_count": null,
   "metadata": {},
   "outputs": [],
   "source": [
    "pip install fake-useragent"
   ]
  },
  {
   "cell_type": "markdown",
   "metadata": {},
   "source": [
    "### Loading natural language queries to web scrape google website"
   ]
  },
  {
   "cell_type": "code",
   "execution_count": 0,
   "metadata": {
    "colab": {},
    "colab_type": "code",
    "id": "L5y1zNvmebiZ"
   },
   "outputs": [],
   "source": [
    "queries = open('/content/drive/My Drive/google_queries.txt', encoding='utf-8').read().split('\\n')"
   ]
  },
  {
   "cell_type": "code",
   "execution_count": 0,
   "metadata": {
    "colab": {},
    "colab_type": "code",
    "id": "2_RMaa53eaDA"
   },
   "outputs": [],
   "source": [
    "import urllib\n",
    "import requests\n",
    "from fake_useragent import UserAgent\n",
    "from bs4 import BeautifulSoup\n",
    "\n",
    "# query = \"coronavirus\"\n",
    "# query = repr(query)\n",
    "results_div = []\n",
    "for query in queries:\n",
    "    query_url = urllib.parse.quote_plus(query) # Format into URL encoding\n",
    "    number_result = 50\n",
    "    #print(query)\n",
    "    #print(str(number_result))\n",
    "    ua = UserAgent()\n",
    "    google_url = \"https://www.google.co.in/search?q=\" + query + \"&num=\" + str(number_result)\n",
    "    response = requests.get(google_url, {\"User-Agent\": ua.random})\n",
    "    soup = BeautifulSoup(response.text, \"html.parser\")\n",
    "    result_div = soup.find_all('div', attrs = {'class': 'ZINbbc'})\n",
    "    results_div.append(result_div)\n",
    "\n",
    "    results_list = []\n",
    "    for sublist in results_div:\n",
    "        for item in sublist:\n",
    "            results_list.append(item)\n",
    "\n",
    "    links = []\n",
    "    titles = []\n",
    "    descriptions = []\n",
    "    for r in results_list:\n",
    "        # Checks if each element is present, else, raise exception\n",
    "        try:\n",
    "            link = r.find('a', href = True)\n",
    "            title = r.find('div', attrs={'class':'vvjwJb'}).get_text()\n",
    "            description = r.find('div', attrs={'class':'s3v9rd'}).get_text()\n",
    "\n",
    "            # Check to make sure everything is present before appending\n",
    "            if link != '' and title != '' and description != '': \n",
    "                links.append(link['href'])\n",
    "                titles.append(title)\n",
    "                descriptions.append(description)\n",
    "        # Next loop if one element is not present\n",
    "        except:\n",
    "            continue\n"
   ]
  },
  {
   "cell_type": "markdown",
   "metadata": {},
   "source": [
    "### Cleaning web links and saving them as data frame"
   ]
  },
  {
   "cell_type": "code",
   "execution_count": 0,
   "metadata": {
    "colab": {},
    "colab_type": "code",
    "id": "vuppy9RYmfjt"
   },
   "outputs": [],
   "source": [
    "\n",
    "import re   \n",
    "\n",
    "to_remove = []\n",
    "clean_links = []\n",
    "for i, l in enumerate(links):\n",
    "    clean = re.search('\\/url\\?q\\=(.*)\\&sa',l)\n",
    "\n",
    "    # Anything that doesn't fit the above pattern will be removed\n",
    "    if clean is None:\n",
    "        to_remove.append(i)\n",
    "        continue\n",
    "    clean_links.append(clean.group(1))\n",
    "\n",
    "# Remove the corresponding titles & descriptions\n",
    "for x in to_remove:\n",
    "    del titles[x]\n",
    "    del descriptions[x]"
   ]
  },
  {
   "cell_type": "code",
   "execution_count": 0,
   "metadata": {
    "colab": {},
    "colab_type": "code",
    "id": "M38bjtbGqavZ"
   },
   "outputs": [],
   "source": [
    "all_lists =  list(zip(titles, descriptions, clean_links))"
   ]
  },
  {
   "cell_type": "code",
   "execution_count": 0,
   "metadata": {
    "colab": {},
    "colab_type": "code",
    "id": "gSqiecfvpAOk"
   },
   "outputs": [],
   "source": [
    "import pandas as pd\n",
    "data = pd.DataFrame(all_lists, columns = ['titles' , 'descriptions', 'clean_links'])"
   ]
  },
  {
   "cell_type": "code",
   "execution_count": 0,
   "metadata": {
    "colab": {},
    "colab_type": "code",
    "id": "vJMtdfOYq6Np"
   },
   "outputs": [],
   "source": [
    "print(data.shape)\n",
    "data.head(10)"
   ]
  },
  {
   "cell_type": "markdown",
   "metadata": {},
   "source": [
    "### Pre-processing of titles & descriptions of web results"
   ]
  },
  {
   "cell_type": "code",
   "execution_count": 0,
   "metadata": {
    "colab": {},
    "colab_type": "code",
    "id": "D2fb-b96ro-G"
   },
   "outputs": [],
   "source": [
    "def clean_text(text):\n",
    "  # Remove @tags\n",
    "  text_cln = re.sub(\"@\\S+\", ' ', text)\n",
    "  # Smart lowercase\n",
    "  text_cln = text_cln.lower()\n",
    "  # Remove numbers\n",
    "  text_cln = re.sub(r'\\d+', ' ', text_cln)\n",
    "  # Remove links\n",
    "  text_cln = re.sub(\"https?:\\S+|http?:\\S|[^A-Za-z0-9]+\", ' ', text_cln)\n",
    "  # Remove Punctuation\n",
    "  text_cln = text_cln.translate(text_cln.maketrans('', '', string.punctuation))\n",
    "  # Remove white spaces\n",
    "  text_cln = text_cln.strip()\n",
    "  # Tokenize into words\n",
    "  text_cln = word_tokenize(text_cln)\n",
    "  # Remove non alphabetic tokens\n",
    "  text_cln = [w for w in text_cln if w.isalpha()]\n",
    "  # Filter out stop words\n",
    "  stop_words = set(stopwords.words('english'))\n",
    "  text_cln = [w for w in text_cln if not w in stop_words]\n",
    "  # Word Lemmatization\n",
    "  lem = WordNetLemmatizer()\n",
    "  text_cln = [lem.lemmatize(word,\"v\") for word in text_cln]\n",
    "  # space join words\n",
    "  return( ' '.join(text_cln))"
   ]
  },
  {
   "cell_type": "code",
   "execution_count": 0,
   "metadata": {
    "colab": {},
    "colab_type": "code",
    "id": "aH5fXa1hraQ5"
   },
   "outputs": [],
   "source": [
    "data['title_tokens'] = data['titles'].apply(clean_text)"
   ]
  },
  {
   "cell_type": "code",
   "execution_count": 0,
   "metadata": {
    "colab": {},
    "colab_type": "code",
    "id": "ilINMQyWslBT"
   },
   "outputs": [],
   "source": [
    "data['description_tokens'] = data['descriptions'].apply(clean_text)"
   ]
  },
  {
   "cell_type": "code",
   "execution_count": 0,
   "metadata": {
    "colab": {},
    "colab_type": "code",
    "id": "oL6UakufsyAI"
   },
   "outputs": [],
   "source": [
    "data.head(10)"
   ]
  },
  {
   "cell_type": "code",
   "execution_count": 0,
   "metadata": {
    "colab": {},
    "colab_type": "code",
    "id": "ooUBBbHOtAix"
   },
   "outputs": [],
   "source": [
    "data.to_csv(\"data.csv\", index=False)"
   ]
  },
  {
   "cell_type": "code",
   "execution_count": 9,
   "metadata": {
    "colab": {
     "base_uri": "https://localhost:8080/",
     "height": 279
    },
    "colab_type": "code",
    "id": "WGTwEWqpiTOG",
    "outputId": "17ca4933-9b0f-4518-ff82-fa3b627a3d3a"
   },
   "outputs": [
    {
     "data": {
      "text/html": [
       "<div>\n",
       "<style scoped>\n",
       "    .dataframe tbody tr th:only-of-type {\n",
       "        vertical-align: middle;\n",
       "    }\n",
       "\n",
       "    .dataframe tbody tr th {\n",
       "        vertical-align: top;\n",
       "    }\n",
       "\n",
       "    .dataframe thead th {\n",
       "        text-align: right;\n",
       "    }\n",
       "</style>\n",
       "<table border=\"1\" class=\"dataframe\">\n",
       "  <thead>\n",
       "    <tr style=\"text-align: right;\">\n",
       "      <th></th>\n",
       "      <th>titles</th>\n",
       "      <th>descriptions</th>\n",
       "      <th>clean_links</th>\n",
       "      <th>title_tokens</th>\n",
       "      <th>description_tokens</th>\n",
       "      <th>category</th>\n",
       "    </tr>\n",
       "  </thead>\n",
       "  <tbody>\n",
       "    <tr>\n",
       "      <th>0</th>\n",
       "      <td>Coronavirus in the U.S.: Latest Map and Case C...</td>\n",
       "      <td>This map shows where the number of new cases i...</td>\n",
       "      <td>https://www.nytimes.com/interactive/2020/us/co...</td>\n",
       "      <td>coronavirus u latest map case count new york</td>\n",
       "      <td>map show number new case rise fall rat anywher...</td>\n",
       "      <td>News</td>\n",
       "    </tr>\n",
       "    <tr>\n",
       "      <th>1</th>\n",
       "      <td>Cases in the U.S. | CDC</td>\n",
       "      <td>Total Cases 1,938,823 17,919 New Cases* ... CD...</td>\n",
       "      <td>https://www.cdc.gov/coronavirus/2019-ncov/case...</td>\n",
       "      <td>case u cdc</td>\n",
       "      <td>total case new case cdc covid data tracker jur...</td>\n",
       "      <td>News</td>\n",
       "    </tr>\n",
       "    <tr>\n",
       "      <th>2</th>\n",
       "      <td>Covid-19 Positive Case Growth Trend - Texas Me...</td>\n",
       "      <td>Covid-19 Positive Daily Case Growth Trend. As ...</td>\n",
       "      <td>https://www.tmc.edu/coronavirus-updates/daily-...</td>\n",
       "      <td>covid positive case growth trend texas medical...</td>\n",
       "      <td>covid positive daily case growth trend june av...</td>\n",
       "      <td>News</td>\n",
       "    </tr>\n",
       "    <tr>\n",
       "      <th>3</th>\n",
       "      <td>55 new coronavirus cases reported Monday in Ok...</td>\n",
       "      <td>14 hours ago · ... State Department of Health ...</td>\n",
       "      <td>https://www.koco.com/article/55-new-coronaviru...</td>\n",
       "      <td>new coronavirus case report monday oklahoma state</td>\n",
       "      <td>hours ago state department health report new c...</td>\n",
       "      <td>News</td>\n",
       "    </tr>\n",
       "    <tr>\n",
       "      <th>4</th>\n",
       "      <td>91 new coronavirus cases confirmed in Oklahoma...</td>\n",
       "      <td>1 day ago · ... Department of Health reported ...</td>\n",
       "      <td>https://www.koco.com/article/91-new-coronaviru...</td>\n",
       "      <td>new coronavirus case confirm oklahoma additional</td>\n",
       "      <td>day ago department health report new covid cas...</td>\n",
       "      <td>News</td>\n",
       "    </tr>\n",
       "  </tbody>\n",
       "</table>\n",
       "</div>"
      ],
      "text/plain": [
       "                                              titles  ... category\n",
       "0  Coronavirus in the U.S.: Latest Map and Case C...  ...     News\n",
       "1                            Cases in the U.S. | CDC  ...     News\n",
       "2  Covid-19 Positive Case Growth Trend - Texas Me...  ...     News\n",
       "3  55 new coronavirus cases reported Monday in Ok...  ...     News\n",
       "4  91 new coronavirus cases confirmed in Oklahoma...  ...     News\n",
       "\n",
       "[5 rows x 6 columns]"
      ]
     },
     "execution_count": 9,
     "metadata": {
      "tags": []
     },
     "output_type": "execute_result"
    }
   ],
   "source": [
    "# loading new data file after labelling\n",
    "\n",
    "data_new = pd.read_csv(\"/content/drive/My Drive/data.csv\")\n",
    "data_new.head()"
   ]
  },
  {
   "cell_type": "code",
   "execution_count": 0,
   "metadata": {
    "colab": {},
    "colab_type": "code",
    "id": "MMlTP8lCrDMC"
   },
   "outputs": [],
   "source": [
    "data_new['zero'] = pd.Series([0 for x in range(len(data_new.index))])\n",
    "data_new['zero'] = data_new['zero'].astype('str')\n",
    "data_new['tokens'] = data_new['title_tokens'] + data_new['zero'] + data_new['description_tokens']"
   ]
  },
  {
   "cell_type": "code",
   "execution_count": 11,
   "metadata": {
    "colab": {
     "base_uri": "https://localhost:8080/",
     "height": 414
    },
    "colab_type": "code",
    "id": "N3BxKJtai8rw",
    "outputId": "77007877-4e99-41e8-a8f5-12a98238e13a"
   },
   "outputs": [
    {
     "data": {
      "text/html": [
       "<div>\n",
       "<style scoped>\n",
       "    .dataframe tbody tr th:only-of-type {\n",
       "        vertical-align: middle;\n",
       "    }\n",
       "\n",
       "    .dataframe tbody tr th {\n",
       "        vertical-align: top;\n",
       "    }\n",
       "\n",
       "    .dataframe thead th {\n",
       "        text-align: right;\n",
       "    }\n",
       "</style>\n",
       "<table border=\"1\" class=\"dataframe\">\n",
       "  <thead>\n",
       "    <tr style=\"text-align: right;\">\n",
       "      <th></th>\n",
       "      <th>titles</th>\n",
       "      <th>descriptions</th>\n",
       "      <th>clean_links</th>\n",
       "      <th>title_tokens</th>\n",
       "      <th>description_tokens</th>\n",
       "      <th>category</th>\n",
       "      <th>zero</th>\n",
       "      <th>tokens</th>\n",
       "    </tr>\n",
       "  </thead>\n",
       "  <tbody>\n",
       "    <tr>\n",
       "      <th>0</th>\n",
       "      <td>Coronavirus in the U.S.: Latest Map and Case C...</td>\n",
       "      <td>This map shows where the number of new cases i...</td>\n",
       "      <td>https://www.nytimes.com/interactive/2020/us/co...</td>\n",
       "      <td>coronavirus u latest map case count new york</td>\n",
       "      <td>map show number new case rise fall rat anywher...</td>\n",
       "      <td>News</td>\n",
       "      <td>0</td>\n",
       "      <td>coronavirus u latest map case count new york m...</td>\n",
       "    </tr>\n",
       "    <tr>\n",
       "      <th>1</th>\n",
       "      <td>Cases in the U.S. | CDC</td>\n",
       "      <td>Total Cases 1,938,823 17,919 New Cases* ... CD...</td>\n",
       "      <td>https://www.cdc.gov/coronavirus/2019-ncov/case...</td>\n",
       "      <td>case u cdc</td>\n",
       "      <td>total case new case cdc covid data tracker jur...</td>\n",
       "      <td>News</td>\n",
       "      <td>0</td>\n",
       "      <td>case u cdc total case new case cdc covid data ...</td>\n",
       "    </tr>\n",
       "    <tr>\n",
       "      <th>2</th>\n",
       "      <td>Covid-19 Positive Case Growth Trend - Texas Me...</td>\n",
       "      <td>Covid-19 Positive Daily Case Growth Trend. As ...</td>\n",
       "      <td>https://www.tmc.edu/coronavirus-updates/daily-...</td>\n",
       "      <td>covid positive case growth trend texas medical...</td>\n",
       "      <td>covid positive daily case growth trend june av...</td>\n",
       "      <td>News</td>\n",
       "      <td>0</td>\n",
       "      <td>covid positive case growth trend texas medical...</td>\n",
       "    </tr>\n",
       "    <tr>\n",
       "      <th>3</th>\n",
       "      <td>55 new coronavirus cases reported Monday in Ok...</td>\n",
       "      <td>14 hours ago · ... State Department of Health ...</td>\n",
       "      <td>https://www.koco.com/article/55-new-coronaviru...</td>\n",
       "      <td>new coronavirus case report monday oklahoma state</td>\n",
       "      <td>hours ago state department health report new c...</td>\n",
       "      <td>News</td>\n",
       "      <td>0</td>\n",
       "      <td>new coronavirus case report monday oklahoma st...</td>\n",
       "    </tr>\n",
       "    <tr>\n",
       "      <th>4</th>\n",
       "      <td>91 new coronavirus cases confirmed in Oklahoma...</td>\n",
       "      <td>1 day ago · ... Department of Health reported ...</td>\n",
       "      <td>https://www.koco.com/article/91-new-coronaviru...</td>\n",
       "      <td>new coronavirus case confirm oklahoma additional</td>\n",
       "      <td>day ago department health report new covid cas...</td>\n",
       "      <td>News</td>\n",
       "      <td>0</td>\n",
       "      <td>new coronavirus case confirm oklahoma addition...</td>\n",
       "    </tr>\n",
       "  </tbody>\n",
       "</table>\n",
       "</div>"
      ],
      "text/plain": [
       "                                              titles  ...                                             tokens\n",
       "0  Coronavirus in the U.S.: Latest Map and Case C...  ...  coronavirus u latest map case count new york m...\n",
       "1                            Cases in the U.S. | CDC  ...  case u cdc total case new case cdc covid data ...\n",
       "2  Covid-19 Positive Case Growth Trend - Texas Me...  ...  covid positive case growth trend texas medical...\n",
       "3  55 new coronavirus cases reported Monday in Ok...  ...  new coronavirus case report monday oklahoma st...\n",
       "4  91 new coronavirus cases confirmed in Oklahoma...  ...  new coronavirus case confirm oklahoma addition...\n",
       "\n",
       "[5 rows x 8 columns]"
      ]
     },
     "execution_count": 11,
     "metadata": {
      "tags": []
     },
     "output_type": "execute_result"
    }
   ],
   "source": [
    "data_new['tokens'] = data_new['tokens'].apply(lambda x: re.sub(\"0\", ' ', x))\n",
    "data_new.head()"
   ]
  },
  {
   "cell_type": "code",
   "execution_count": 12,
   "metadata": {
    "colab": {
     "base_uri": "https://localhost:8080/",
     "height": 478
    },
    "colab_type": "code",
    "id": "ZzofDWGHuA93",
    "outputId": "d29f26ee-5cdc-4eb3-aa0b-0236bdb36f24"
   },
   "outputs": [
    {
     "data": {
      "text/html": [
       "<div>\n",
       "<style scoped>\n",
       "    .dataframe tbody tr th:only-of-type {\n",
       "        vertical-align: middle;\n",
       "    }\n",
       "\n",
       "    .dataframe tbody tr th {\n",
       "        vertical-align: top;\n",
       "    }\n",
       "\n",
       "    .dataframe thead th {\n",
       "        text-align: right;\n",
       "    }\n",
       "</style>\n",
       "<table border=\"1\" class=\"dataframe\">\n",
       "  <thead>\n",
       "    <tr style=\"text-align: right;\">\n",
       "      <th></th>\n",
       "      <th>titles</th>\n",
       "      <th>descriptions</th>\n",
       "      <th>clean_links</th>\n",
       "      <th>category</th>\n",
       "      <th>tokens</th>\n",
       "    </tr>\n",
       "  </thead>\n",
       "  <tbody>\n",
       "    <tr>\n",
       "      <th>0</th>\n",
       "      <td>Coronavirus in the U.S.: Latest Map and Case C...</td>\n",
       "      <td>This map shows where the number of new cases i...</td>\n",
       "      <td>https://www.nytimes.com/interactive/2020/us/co...</td>\n",
       "      <td>News</td>\n",
       "      <td>coronavirus u latest map case count new york m...</td>\n",
       "    </tr>\n",
       "    <tr>\n",
       "      <th>1</th>\n",
       "      <td>Cases in the U.S. | CDC</td>\n",
       "      <td>Total Cases 1,938,823 17,919 New Cases* ... CD...</td>\n",
       "      <td>https://www.cdc.gov/coronavirus/2019-ncov/case...</td>\n",
       "      <td>News</td>\n",
       "      <td>case u cdc total case new case cdc covid data ...</td>\n",
       "    </tr>\n",
       "    <tr>\n",
       "      <th>2</th>\n",
       "      <td>Covid-19 Positive Case Growth Trend - Texas Me...</td>\n",
       "      <td>Covid-19 Positive Daily Case Growth Trend. As ...</td>\n",
       "      <td>https://www.tmc.edu/coronavirus-updates/daily-...</td>\n",
       "      <td>News</td>\n",
       "      <td>covid positive case growth trend texas medical...</td>\n",
       "    </tr>\n",
       "    <tr>\n",
       "      <th>3</th>\n",
       "      <td>55 new coronavirus cases reported Monday in Ok...</td>\n",
       "      <td>14 hours ago · ... State Department of Health ...</td>\n",
       "      <td>https://www.koco.com/article/55-new-coronaviru...</td>\n",
       "      <td>News</td>\n",
       "      <td>new coronavirus case report monday oklahoma st...</td>\n",
       "    </tr>\n",
       "    <tr>\n",
       "      <th>4</th>\n",
       "      <td>91 new coronavirus cases confirmed in Oklahoma...</td>\n",
       "      <td>1 day ago · ... Department of Health reported ...</td>\n",
       "      <td>https://www.koco.com/article/91-new-coronaviru...</td>\n",
       "      <td>News</td>\n",
       "      <td>new coronavirus case confirm oklahoma addition...</td>\n",
       "    </tr>\n",
       "    <tr>\n",
       "      <th>5</th>\n",
       "      <td>Situation Update for COVID-19 - Minnesota Dept...</td>\n",
       "      <td>Minnesota Case Overview. Total positive cases:...</td>\n",
       "      <td>https://www.health.state.mn.us/diseases/corona...</td>\n",
       "      <td>News</td>\n",
       "      <td>situation update covid minnesota dept health m...</td>\n",
       "    </tr>\n",
       "    <tr>\n",
       "      <th>6</th>\n",
       "      <td>Coronavirus by State Map | Testing in the U.S....</td>\n",
       "      <td>May 17, 2020 · Which states have seen the most...</td>\n",
       "      <td>https://www.politico.com/interactives/2020/cor...</td>\n",
       "      <td>News</td>\n",
       "      <td>coronavirus state map test u chart new case ma...</td>\n",
       "    </tr>\n",
       "    <tr>\n",
       "      <th>7</th>\n",
       "      <td>Maryland Department of Health: Coronavirus</td>\n",
       "      <td>Visit the Maryland Department of Health's offi...</td>\n",
       "      <td>https://coronavirus.maryland.gov/</td>\n",
       "      <td>News</td>\n",
       "      <td>maryland department health coronavirus visit m...</td>\n",
       "    </tr>\n",
       "    <tr>\n",
       "      <th>8</th>\n",
       "      <td>Novel Coronavirus: Indiana COVID-19 Dashboard ...</td>\n",
       "      <td>Indiana COVID-19 Data Report ... New positive ...</td>\n",
       "      <td>https://www.coronavirus.in.gov/2393.htm</td>\n",
       "      <td>News</td>\n",
       "      <td>novel coronavirus indiana covid dashboard isdh...</td>\n",
       "    </tr>\n",
       "    <tr>\n",
       "      <th>9</th>\n",
       "      <td>Coronavirus in San Diego County - County of Sa...</td>\n",
       "      <td>The table below provides information about pos...</td>\n",
       "      <td>https://www.sandiegocounty.gov/content/sdc/hhs...</td>\n",
       "      <td>News</td>\n",
       "      <td>coronavirus san diego county county san diego ...</td>\n",
       "    </tr>\n",
       "  </tbody>\n",
       "</table>\n",
       "</div>"
      ],
      "text/plain": [
       "                                              titles  ...                                             tokens\n",
       "0  Coronavirus in the U.S.: Latest Map and Case C...  ...  coronavirus u latest map case count new york m...\n",
       "1                            Cases in the U.S. | CDC  ...  case u cdc total case new case cdc covid data ...\n",
       "2  Covid-19 Positive Case Growth Trend - Texas Me...  ...  covid positive case growth trend texas medical...\n",
       "3  55 new coronavirus cases reported Monday in Ok...  ...  new coronavirus case report monday oklahoma st...\n",
       "4  91 new coronavirus cases confirmed in Oklahoma...  ...  new coronavirus case confirm oklahoma addition...\n",
       "5  Situation Update for COVID-19 - Minnesota Dept...  ...  situation update covid minnesota dept health m...\n",
       "6  Coronavirus by State Map | Testing in the U.S....  ...  coronavirus state map test u chart new case ma...\n",
       "7         Maryland Department of Health: Coronavirus  ...  maryland department health coronavirus visit m...\n",
       "8  Novel Coronavirus: Indiana COVID-19 Dashboard ...  ...  novel coronavirus indiana covid dashboard isdh...\n",
       "9  Coronavirus in San Diego County - County of Sa...  ...  coronavirus san diego county county san diego ...\n",
       "\n",
       "[10 rows x 5 columns]"
      ]
     },
     "execution_count": 12,
     "metadata": {
      "tags": []
     },
     "output_type": "execute_result"
    }
   ],
   "source": [
    "col = ['title_tokens','description_tokens', 'zero']\n",
    "data_new.drop(col, inplace=True, axis=1)\n",
    "data_new.head(10)"
   ]
  },
  {
   "cell_type": "code",
   "execution_count": 0,
   "metadata": {
    "colab": {},
    "colab_type": "code",
    "id": "CRovT7g6u8Ye"
   },
   "outputs": [],
   "source": [
    "data_tokens = data_new[['tokens', 'category']]"
   ]
  },
  {
   "cell_type": "code",
   "execution_count": 14,
   "metadata": {
    "colab": {
     "base_uri": "https://localhost:8080/",
     "height": 246
    },
    "colab_type": "code",
    "id": "YP-hqkobvKbw",
    "outputId": "9e60076d-2e9e-4050-8e83-4e812e888681"
   },
   "outputs": [
    {
     "name": "stdout",
     "output_type": "stream",
     "text": [
      "                                              tokens category\n",
      "0  coronavirus u latest map case count new york m...     News\n",
      "1  case u cdc total case new case cdc covid data ...     News\n",
      "2  covid positive case growth trend texas medical...     News\n",
      "3  new coronavirus case report monday oklahoma st...     News\n",
      "4  new coronavirus case confirm oklahoma addition...     News\n",
      "(3080, 2)\n",
      "Economy, Business & Politics                 1150\n",
      "News                                          838\n",
      "Research, Vaccine, Hospitals & Test kits      446\n",
      "Jobs & Education                              350\n",
      "Donations & Food                              296\n",
      "Name: category, dtype: int64\n"
     ]
    }
   ],
   "source": [
    "print(data_tokens.head())\n",
    "print(data_tokens.shape)\n",
    "print(data_tokens['category'].value_counts())"
   ]
  },
  {
   "cell_type": "markdown",
   "metadata": {
    "colab_type": "text",
    "id": "bk85cdPxzKSB"
   },
   "source": [
    "### Building LSTM RNN model"
   ]
  },
  {
   "cell_type": "code",
   "execution_count": 15,
   "metadata": {
    "colab": {
     "base_uri": "https://localhost:8080/",
     "height": 34
    },
    "colab_type": "code",
    "id": "xgTP32klxUgH",
    "outputId": "809c51e2-d9d5-43ef-ffff-02e3f99933f7"
   },
   "outputs": [
    {
     "name": "stdout",
     "output_type": "stream",
     "text": [
      "Found 6485 unique tokens.\n"
     ]
    }
   ],
   "source": [
    "# The maximum number of words to be used. (most frequent)\n",
    "MAX_NB_WORDS = 1000\n",
    "# Max number of words in each complaint.\n",
    "MAX_SEQUENCE_LENGTH = 300\n",
    "# This is fixed.\n",
    "EMBEDDING_DIM = 300\n",
    "\n",
    "tokenizer = Tokenizer(num_words=MAX_NB_WORDS, filters='!\"#$%&()*+,-./:;<=>?@[\\]^_`{|}~', lower=True)\n",
    "tokenizer.fit_on_texts(data_tokens['tokens'].values)\n",
    "word_index = tokenizer.word_index\n",
    "print('Found %s unique tokens.' % len(word_index))"
   ]
  },
  {
   "cell_type": "code",
   "execution_count": 0,
   "metadata": {
    "colab": {},
    "colab_type": "code",
    "id": "PngW2wgMkP1n"
   },
   "outputs": [],
   "source": [
    "# saving \n",
    "import pickle\n",
    "with open('tokenizer.pickle', 'wb') as handle:\n",
    "    pickle.dump(tokenizer, handle, protocol=pickle.HIGHEST_PROTOCOL)"
   ]
  },
  {
   "cell_type": "code",
   "execution_count": 16,
   "metadata": {
    "colab": {
     "base_uri": "https://localhost:8080/",
     "height": 34
    },
    "colab_type": "code",
    "id": "PJBu8_gjxvXt",
    "outputId": "898b8ed0-144c-4d99-c170-967160d272b0"
   },
   "outputs": [
    {
     "name": "stdout",
     "output_type": "stream",
     "text": [
      "Shape of data tensor: (3080, 300)\n"
     ]
    }
   ],
   "source": [
    "X = tokenizer.texts_to_sequences(data_tokens['tokens'].values)\n",
    "X = pad_sequences(X, maxlen=MAX_SEQUENCE_LENGTH)\n",
    "print('Shape of data tensor:', X.shape)"
   ]
  },
  {
   "cell_type": "code",
   "execution_count": 17,
   "metadata": {
    "colab": {
     "base_uri": "https://localhost:8080/",
     "height": 34
    },
    "colab_type": "code",
    "id": "xDANob7hx-1z",
    "outputId": "cc71c2a0-f9c6-4734-84cf-72b20f0c4ef4"
   },
   "outputs": [
    {
     "name": "stdout",
     "output_type": "stream",
     "text": [
      "Shape of label tensor: (3080, 5)\n"
     ]
    }
   ],
   "source": [
    "Y = pd.get_dummies(data_tokens['category']).values\n",
    "print('Shape of label tensor:', Y.shape)"
   ]
  },
  {
   "cell_type": "code",
   "execution_count": 18,
   "metadata": {
    "colab": {
     "base_uri": "https://localhost:8080/",
     "height": 52
    },
    "colab_type": "code",
    "id": "ehDJc2vfyIp5",
    "outputId": "54618b60-e294-4604-a2ed-ccacc099eebb"
   },
   "outputs": [
    {
     "name": "stdout",
     "output_type": "stream",
     "text": [
      "(2310, 300) (2310, 5)\n",
      "(770, 300) (770, 5)\n"
     ]
    }
   ],
   "source": [
    "X_train, X_test, Y_train, Y_test = train_test_split(X,Y, test_size = 0.25, random_state = 42)\n",
    "print(X_train.shape,Y_train.shape)\n",
    "print(X_test.shape,Y_test.shape)"
   ]
  },
  {
   "cell_type": "code",
   "execution_count": 19,
   "metadata": {
    "colab": {
     "base_uri": "https://localhost:8080/",
     "height": 316
    },
    "colab_type": "code",
    "id": "rFZlhKw9yZAW",
    "outputId": "8082e8af-543d-4056-ad63-9f8c7ff71cf9"
   },
   "outputs": [
    {
     "name": "stdout",
     "output_type": "stream",
     "text": [
      "Model: \"sequential_1\"\n",
      "_________________________________________________________________\n",
      "Layer (type)                 Output Shape              Param #   \n",
      "=================================================================\n",
      "embedding_1 (Embedding)      (None, 300, 300)          300000    \n",
      "_________________________________________________________________\n",
      "spatial_dropout1d_1 (Spatial (None, 300, 300)          0         \n",
      "_________________________________________________________________\n",
      "lstm_1 (LSTM)                (None, 100)               160400    \n",
      "_________________________________________________________________\n",
      "dense_1 (Dense)              (None, 5)                 505       \n",
      "=================================================================\n",
      "Total params: 460,905\n",
      "Trainable params: 460,905\n",
      "Non-trainable params: 0\n",
      "_________________________________________________________________\n",
      "None\n"
     ]
    }
   ],
   "source": [
    "model = Sequential()\n",
    "model.add(Embedding(MAX_NB_WORDS, EMBEDDING_DIM, input_length=X.shape[1]))\n",
    "model.add(SpatialDropout1D(0.2))\n",
    "model.add(LSTM(100, dropout=0.2, recurrent_dropout=0.2))\n",
    "model.add(Dense(5, activation='softmax'))\n",
    "model.compile(loss='categorical_crossentropy', optimizer='adam', metrics=['accuracy'])\n",
    "print(model.summary())"
   ]
  },
  {
   "cell_type": "code",
   "execution_count": 20,
   "metadata": {
    "colab": {
     "base_uri": "https://localhost:8080/",
     "height": 533
    },
    "colab_type": "code",
    "id": "9M4ummGwQjyA",
    "outputId": "d8f16d4c-e32b-4959-b257-6e05aefab985",
    "scrolled": true
   },
   "outputs": [
    {
     "data": {
      "image/png": "[encoded data removed]",
      "text/plain": [
       "<IPython.core.display.Image object>"
      ]
     },
     "execution_count": 20,
     "metadata": {
      "tags": []
     },
     "output_type": "execute_result"
    }
   ],
   "source": [
    "from keras.utils import plot_model\n",
    "plot_model(model, to_file='model_plot.png', show_shapes=True, show_layer_names=True)"
   ]
  },
  {
   "cell_type": "markdown",
   "metadata": {},
   "source": [
    "### Fitting and Testing of model"
   ]
  },
  {
   "cell_type": "code",
   "execution_count": 21,
   "metadata": {
    "colab": {
     "base_uri": "https://localhost:8080/",
     "height": 457
    },
    "colab_type": "code",
    "id": "_4kzIxKTyvdw",
    "outputId": "584534f5-4705-4565-f9f7-d661feb55be5"
   },
   "outputs": [
    {
     "name": "stderr",
     "output_type": "stream",
     "text": [
      "/usr/local/lib/python3.6/dist-packages/tensorflow/python/framework/indexed_slices.py:434: UserWarning:\n",
      "\n",
      "Converting sparse IndexedSlices to a dense Tensor of unknown shape. This may consume a large amount of memory.\n",
      "\n"
     ]
    },
    {
     "name": "stdout",
     "output_type": "stream",
     "text": [
      "Train on 2079 samples, validate on 231 samples\n",
      "Epoch 1/10\n",
      "2079/2079 [==============================] - 31s 15ms/step - loss: 1.4146 - accuracy: 0.4281 - val_loss: 1.1082 - val_accuracy: 0.5628\n",
      "Epoch 2/10\n",
      "2079/2079 [==============================] - 30s 14ms/step - loss: 0.7222 - accuracy: 0.7557 - val_loss: 0.5329 - val_accuracy: 0.8701\n",
      "Epoch 3/10\n",
      "2079/2079 [==============================] - 30s 15ms/step - loss: 0.3202 - accuracy: 0.9274 - val_loss: 0.2325 - val_accuracy: 0.9481\n",
      "Epoch 4/10\n",
      "2079/2079 [==============================] - 30s 14ms/step - loss: 0.1386 - accuracy: 0.9721 - val_loss: 0.2283 - val_accuracy: 0.9221\n",
      "Epoch 5/10\n",
      "2079/2079 [==============================] - 30s 14ms/step - loss: 0.0953 - accuracy: 0.9740 - val_loss: 0.2021 - val_accuracy: 0.9221\n",
      "Epoch 6/10\n",
      "2079/2079 [==============================] - 30s 14ms/step - loss: 0.0619 - accuracy: 0.9856 - val_loss: 0.1910 - val_accuracy: 0.9481\n",
      "Epoch 7/10\n",
      "2079/2079 [==============================] - 30s 14ms/step - loss: 0.0475 - accuracy: 0.9894 - val_loss: 0.2038 - val_accuracy: 0.9351\n",
      "Epoch 8/10\n",
      "2079/2079 [==============================] - 30s 15ms/step - loss: 0.0279 - accuracy: 0.9933 - val_loss: 0.1850 - val_accuracy: 0.9481\n",
      "Epoch 9/10\n",
      "2079/2079 [==============================] - 30s 15ms/step - loss: 0.0204 - accuracy: 0.9966 - val_loss: 0.2137 - val_accuracy: 0.9481\n",
      "Epoch 10/10\n",
      "2079/2079 [==============================] - 30s 15ms/step - loss: 0.0219 - accuracy: 0.9957 - val_loss: 0.2280 - val_accuracy: 0.9481\n"
     ]
    }
   ],
   "source": [
    "epochs = 10\n",
    "batch_size = 64\n",
    "\n",
    "history = model.fit(X_train, Y_train, epochs=epochs, batch_size=batch_size,validation_split=0.1,callbacks=[EarlyStopping(monitor='val_loss', patience=3, min_delta=0.0001)])"
   ]
  },
  {
   "cell_type": "code",
   "execution_count": 22,
   "metadata": {
    "colab": {
     "base_uri": "https://localhost:8080/",
     "height": 87
    },
    "colab_type": "code",
    "id": "xH8HVfNvzX5Z",
    "outputId": "fd5c4995-e6c8-431c-86e4-9cd8ea69705f"
   },
   "outputs": [
    {
     "name": "stdout",
     "output_type": "stream",
     "text": [
      "770/770 [==============================] - 3s 4ms/step\n",
      "Test set\n",
      "  Loss: 0.340\n",
      "  Accuracy: 0.906\n"
     ]
    }
   ],
   "source": [
    "accr = model.evaluate(X_test,Y_test)\n",
    "print('Test set\\n  Loss: {:0.3f}\\n  Accuracy: {:0.3f}'.format(accr[0], accr[1]))"
   ]
  },
  {
   "cell_type": "code",
   "execution_count": 23,
   "metadata": {
    "colab": {
     "base_uri": "https://localhost:8080/",
     "height": 590
    },
    "colab_type": "code",
    "id": "WfnsJ_3zzcmF",
    "outputId": "7ea35dde-8079-465b-ac5d-aaa411fd1e24"
   },
   "outputs": [
    {
     "name": "stdout",
     "output_type": "stream",
     "text": [
      "dict_keys(['val_loss', 'val_accuracy', 'loss', 'accuracy'])\n"
     ]
    },
    {
     "data": {
      "image/png": "[encoded data removed]",
      "text/plain": [
       "<Figure size 432x288 with 1 Axes>"
      ]
     },
     "metadata": {
      "needs_background": "light",
      "tags": []
     },
     "output_type": "display_data"
    },
    {
     "data": {
      "image/png": "[encoded data removed]",
      "text/plain": [
       "<Figure size 432x288 with 1 Axes>"
      ]
     },
     "metadata": {
      "needs_background": "light",
      "tags": []
     },
     "output_type": "display_data"
    }
   ],
   "source": [
    "# list all data in history\n",
    "print(history.history.keys())\n",
    "# summarize history for accuracy\n",
    "plt.plot(history.history['accuracy'])\n",
    "plt.plot(history.history['val_accuracy'])\n",
    "plt.title('model accuracy')\n",
    "plt.ylabel('accuracy')\n",
    "plt.xlabel('epoch')\n",
    "plt.legend(['train', 'test'], loc='upper left')\n",
    "plt.show()\n",
    "# summarize history for loss\n",
    "plt.plot(history.history['loss'])\n",
    "plt.plot(history.history['val_loss'])\n",
    "plt.title('model loss')\n",
    "plt.ylabel('loss')\n",
    "plt.xlabel('epoch')\n",
    "plt.legend(['train', 'test'], loc='upper left')\n",
    "plt.show()"
   ]
  },
  {
   "cell_type": "code",
   "execution_count": 0,
   "metadata": {
    "colab": {},
    "colab_type": "code",
    "id": "NuIDvTD2zfbg"
   },
   "outputs": [],
   "source": [
    "# saving model as h5 file\n",
    "model.save('Classification_LSTM_model.h5')"
   ]
  },
  {
   "cell_type": "code",
   "execution_count": 0,
   "metadata": {
    "colab": {},
    "colab_type": "code",
    "id": "IY2AGlR70Z7a"
   },
   "outputs": [],
   "source": [
    "new_result = ['may coronavirus economic impact countries manufacture sectors affect covid crisis early evidence']\n",
    "seq = tokenizer.texts_to_sequences(new_result)\n",
    "padded = pad_sequences(seq, maxlen=MAX_SEQUENCE_LENGTH)\n",
    "pred = model.predict(padded)\n",
    "categories = ['Economy, Business & Politics', 'News', 'Research, Vaccine, Hospitals & Test kits', 'Jobs & Education', 'Donations & Food']\n",
    "print(pred, categories[np.argmax(pred)])"
   ]
  },
  {
   "cell_type": "markdown",
   "metadata": {
    "colab_type": "text",
    "id": "e21yyNqPzDBc"
   },
   "source": [
    "### Another RNN model (but not used in deployment)"
   ]
  },
  {
   "cell_type": "code",
   "execution_count": 0,
   "metadata": {
    "colab": {},
    "colab_type": "code",
    "id": "hPP0ZaSrzB4Y"
   },
   "outputs": [],
   "source": [
    "n_most_common_words = 1000\n",
    "max_len = 130\n",
    "tokenizer = Tokenizer(num_words=n_most_common_words, filters='!\"#$%&()*+,-./:;<=>?@[\\]^_`{|}~', lower=True)\n",
    "tokenizer.fit_on_texts(data_tokens['tokens'].values)\n",
    "sequences = tokenizer.texts_to_sequences(data_tokens['tokens'].values)\n",
    "word_index = tokenizer.word_index\n",
    "print('Found %s unique tokens.' % len(word_index))\n",
    "\n",
    "X = pad_sequences(sequences, maxlen=max_len)\n",
    "print(X.shape)"
   ]
  },
  {
   "cell_type": "code",
   "execution_count": 0,
   "metadata": {
    "colab": {},
    "colab_type": "code",
    "id": "MoOcMT7A22xG"
   },
   "outputs": [],
   "source": [
    "Y = pd.get_dummies(data_tokens['category']).values\n",
    "print('Shape of label tensor:', Y.shape)"
   ]
  },
  {
   "cell_type": "code",
   "execution_count": 0,
   "metadata": {
    "colab": {},
    "colab_type": "code",
    "id": "4NG7cpY53Dor"
   },
   "outputs": [],
   "source": [
    "X_train, X_test, Y_train, Y_test = train_test_split(X, Y, test_size=0.25, random_state=42)"
   ]
  },
  {
   "cell_type": "code",
   "execution_count": 0,
   "metadata": {
    "colab": {},
    "colab_type": "code",
    "id": "1FQlZjXz3PsJ"
   },
   "outputs": [],
   "source": [
    "epochs = 100\n",
    "emb_dim = 128\n",
    "batch_size = 256"
   ]
  },
  {
   "cell_type": "code",
   "execution_count": 0,
   "metadata": {
    "colab": {},
    "colab_type": "code",
    "id": "obCvn8n23ZdB"
   },
   "outputs": [],
   "source": [
    "print((X_train.shape, Y_train.shape, X_test.shape, Y_test.shape))\n",
    "\n",
    "model = Sequential()\n",
    "model.add(Embedding(n_most_common_words, emb_dim, input_length=X.shape[1]))\n",
    "model.add(SpatialDropout1D(0.7))\n",
    "model.add(LSTM(64, dropout=0.7, recurrent_dropout=0.7))\n",
    "model.add(Dense(5, activation='softmax'))\n",
    "model.compile(optimizer='adam', loss='categorical_crossentropy', metrics=['accuracy'])\n",
    "print(model.summary())\n",
    "history = model.fit(X_train, Y_train, epochs=epochs, batch_size=batch_size, validation_split=0.2, callbacks=[EarlyStopping(monitor='val_loss', patience=7, min_delta=0.0001)])"
   ]
  },
  {
   "cell_type": "code",
   "execution_count": 0,
   "metadata": {
    "colab": {},
    "colab_type": "code",
    "id": "zMPFk6b93yAS"
   },
   "outputs": [],
   "source": [
    "accr = model.evaluate(X_test, Y_test)\n",
    "print('Test set\\n  Loss: {:0.3f}\\n  Accuracy: {:0.3f}'.format(accr[0], accr[1]))"
   ]
  },
  {
   "cell_type": "code",
   "execution_count": 0,
   "metadata": {
    "colab": {},
    "colab_type": "code",
    "id": "lSCyiM9C31SX"
   },
   "outputs": [],
   "source": [
    "# list all data in history\n",
    "print(history.history.keys())\n",
    "# summarize history for accuracy\n",
    "plt.plot(history.history['accuracy'])\n",
    "plt.plot(history.history['val_accuracy'])\n",
    "plt.title('model accuracy')\n",
    "plt.ylabel('accuracy')\n",
    "plt.xlabel('epoch')\n",
    "plt.legend(['train', 'test'], loc='upper left')\n",
    "plt.show()\n",
    "# summarize history for loss\n",
    "plt.plot(history.history['loss'])\n",
    "plt.plot(history.history['val_loss'])\n",
    "plt.title('model loss')\n",
    "plt.ylabel('loss')\n",
    "plt.xlabel('epoch')\n",
    "plt.legend(['train', 'test'], loc='upper left')\n",
    "plt.show()"
   ]
  },
  {
   "cell_type": "code",
   "execution_count": 0,
   "metadata": {
    "colab": {},
    "colab_type": "code",
    "id": "NvvvrOgC7deq"
   },
   "outputs": [],
   "source": [
    "new_result = ['may coronavirus economic impact countries manufacture sectors affect covid crisis early evidence']\n",
    "seq = tokenizer.texts_to_sequences(new_result)\n",
    "padded = pad_sequences(seq, maxlen=max_len)\n",
    "pred = model.predict(padded)\n",
    "categories = ['Economy, Business & Politics', 'News', 'Research, Vaccine, Hospitals & Test kits', 'Jobs & Education', 'Donations & Food']\n",
    "print(pred, categories[np.argmax(pred)])"
   ]
  }
 ],
 "metadata": {
  "colab": {
   "collapsed_sections": [],
   "name": "Covid Enhanced Search .ipynb",
   "provenance": []
  },
  "kernelspec": {
   "display_name": "Python 3",
   "language": "python",
   "name": "python3"
  },
  "language_info": {
   "codemirror_mode": {
    "name": "ipython",
    "version": 3
   },
   "file_extension": ".py",
   "mimetype": "text/x-python",
   "name": "python",
   "nbconvert_exporter": "python",
   "pygments_lexer": "ipython3",
   "version": "3.7.6"
  }
 },
 "nbformat": 4,
 "nbformat_minor": 1
}
